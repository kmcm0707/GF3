{
 "cells": [
  {
   "cell_type": "code",
   "execution_count": 8,
   "metadata": {},
   "outputs": [],
   "source": [
    "import matplotlib.pyplot as plt\n",
    "import numpy as np\n",
    "import random\n",
    "\n",
    "from transmitter import transmitter\n",
    "from receiver import receiver"
   ]
  },
  {
   "cell_type": "code",
   "execution_count": 9,
   "metadata": {},
   "outputs": [
    {
     "name": "stdout",
     "output_type": "stream",
     "text": [
      "Chirp_p_s Prefix Length: 1024\n",
      "Chirp_p_s Suffix Length: 1024\n",
      "Chirp_p_s Length: 67568\n",
      "LDPC Encoding Length: 30712\n",
      "LDPC Padding Length: 392\n",
      "OFDM Encoding Length: 62208\n",
      "OFDM Padding Length: 0\n",
      "Chirp_p_s Prefix Length: 1024\n",
      "Chirp_p_s Suffix Length: 1024\n",
      "Chirp_p_s Length: 67568\n",
      "386016\n"
     ]
    },
    {
     "name": "stderr",
     "output_type": "stream",
     "text": [
      "/Users/maxiyengar/Documents/GF3/GF3/ldpc_jossy/transmitter.py:106: ComplexWarning: Casting complex values to real discards the imaginary part\n",
      "  to_transmit[index]  = np.concatenate((cyclic_prefix, x), axis = None)\n"
     ]
    }
   ],
   "source": [
    "t = transmitter()\n",
    "\n",
    "to_transmit = t.transmit(\"max_test_in.txt\", playsound=False)\n",
    "\n",
    "transmitted_bits = t.process_file(\"max_test_in.txt\")"
   ]
  },
  {
   "cell_type": "code",
   "execution_count": 10,
   "metadata": {},
   "outputs": [],
   "source": [
    "channel_response = np.loadtxt('../weekend_files/channel.csv', delimiter = \",\", dtype = \"float\")\n",
    "\n",
    "# Convolve w/ channel response\n",
    "\n",
    "to_decode = np.convolve(channel_response, to_transmit)\n",
    "to_decode = to_decode[:-1 * len(channel_response) + 1]\n",
    "\n",
    "# NOISE\n",
    "\n",
    "for index, i in enumerate(to_decode):\n",
    "    to_decode[index] = i + random.gauss(0.0, 0.0)\n",
    "\n",
    "to_decode = np.concatenate((np.zeros(500), to_decode, np.zeros(500)))"
   ]
  },
  {
   "cell_type": "code",
   "execution_count": 11,
   "metadata": {},
   "outputs": [],
   "source": [
    "def success(a, b):\n",
    "    \"\"\"find the percentage difference between two lists\"\"\"\n",
    "    successes = 0\n",
    "\n",
    "    for index, i in enumerate(a):\n",
    "        if i == b[index]:\n",
    "            successes += 1 / len(a)\n",
    "\n",
    "    return successes"
   ]
  },
  {
   "cell_type": "code",
   "execution_count": 12,
   "metadata": {},
   "outputs": [
    {
     "name": "stdout",
     "output_type": "stream",
     "text": [
      "Chirp_p_s Prefix Length: 1024\n",
      "Chirp_p_s Suffix Length: 1024\n",
      "Chirp_p_s Length: 67568\n"
     ]
    },
    {
     "data": {
      "image/png": "[encoded data removed]",
      "text/plain": [
       "<Figure size 640x480 with 1 Axes>"
      ]
     },
     "metadata": {},
     "output_type": "display_data"
    },
    {
     "name": "stdout",
     "output_type": "stream",
     "text": [
      "None\n",
      "0.506414430841224\n",
      "$ÜÆ\u001e\u0005ÿÿ¯ÿ¯ÿÿÿÿÿÿÿÿÿÿßÿ×ÿ×ÿÿÿÿÿ¥ÿ¥¥¡¡¡¡ááá_é_è_è_è_è_è_è_ø_ú_ú_ú_ú_þ_õ_õ_õWõUÔ\u0002¶Ë3`\u0017êúªªªª¨º¨:¨>¨>¨>¨\u001f¨\u001f¨\u001fª\u000fª\u000fª\u0007ê\u0007ê\u0007ê\u0007ê\u0007ê\u0007ê\u0007êêúúúúúú ú ú ú ú¨UUUUUTUT\u0015T\u0015T\u0005T\u0005U\u0001U\u0000\u0000½K6Ìyåß¨>¨>¨>¨\u001f¨\u001f¨\u000fª\u000fª\u000fª\u0007ê\u0007ê\u0007ê\u0007ê\u0007ê\u0007êêúúúúúúú ú ú ú ú¨ªªªªª*ª\n",
      "ª\n",
      "ª\u0002¨\u0002¨\u0000¨\u0000¨\u0000¨\u0000(\u0000 \u0001(\u0001j\u0000-\t3'\u001e\u001a\u0001x\u0005x\u0005x\u0005x\u0005x\u0005x\u0005x\u0005|\u0005~\u0005~\u0005~\u0005~\u0005~\u0005~\u0005~\u0005^\u0005^\u0005_\u0005_\u0005_\u0005_\u0005_\u0001@\u0001P\u0001P\u0001P\u0001P\u0001T\u0000T\u0000T\u0000U\u0000U\u0000U\u0000\u0015@\u0015@\u0015@\u0015@\u0015`\u0015`\u0015p\u0015x\u0000\u0004­½ááþúúúúúú¡þ¡þ¡þ¡þ¡þ þ þ þ¨þ¨þªªªªªª«ª«ê«ê«êªúªúªþªþªÿª¿ª¿ª¿ê¿êêêúúúúþ¥ÿ¡UU-4Ìè\\\u0015ø\u0015ø\u0015ü\u0015~\u0015~\u0005~\u0005~\u0005_\u0005_\u0005_\u0005_\u0005W\u0000\n",
      "\n",
      "\u0002\u0002\u0002\u0002 \u0000 \u0000 \u0000 \u0000 \u0000(\u0000(\u0000(\u0000h\u0000j\u0000j\u0000z\u0000z\u0000Z\u0000Z\u0000Z\u0000Z\u0000^\u0000^\u0000^\u0001^\u0001^\u0001^\u0000^ª¿[m9è^\u0015þWþWúWþWþWþ_þ\u0000\u0000\u0000\u0000\u0000\u0000\u0000\u0002\u0000\u0002\u0000\u0000\u0000\u0000 \u0000 \u0000¨\u0000(\u0000(\u0000*\u0000*\u0000j\u0000j\u0000zZZZ^^\u001e\u001e \u001e \u001e \u0016 \u0017 \u0017 \u0017 \u0017 \u0007¨\u0007¨\u0001ýR$f8~_ú_þ\u0000\u0000\u0000\u0000\u0000\u0000\u0000\u0000\u0000\u0000\u0000\u0000\u0000\u0000\u0000\u0000\u0000\u0000\u0000\u0000 \u0000(\u0000(\u0000(\u0000j\u0000j\u0000j\u0000z\u0000ZZZ^^\u001e\u001e \u001e \u001e \u0016 \u0017 \u0017 \u0017 \u0017 \u0007 \u0007¨\u0007¨\u0005¨\u0005¨\u0001¨\u0001ª\u0000õKõõ_õ_õWýWýWýUýUÿUUUUÕ_Õ_Å_Å_á_áWáWáWàWðWðWøWøWøUø\u0015ø\u0015ø\u0015ø\u0015ü\u0015þ\u0015þ\u0015þ\u0015~\u0015~\u0015\u0015\u0015U_ÿ¿ÿ¿ÿ¯ÿ¯ÿ¯ÿïÿïÿÿÿûÿûÿþÿþÿþþþþþþþ¥ÿ¥ÿ¥ÿ¡¡¡¡¡¡éé_è_è_è_è_è_ø_ú_ú_úWþWÿUUUUUUUTUTUU\u0015U\u0015U\u0005U\u0005U\u0001UAUAU@U@UÀUàUà\u0015ð\u0015ð\u0015ð\u0015x\u0015x\u0015x\u0005x\u0005x\u0005x\u0005~\u0005~\u0005~\u0005~\u0005^\u0005^\u0001^\u0001^\u0001_\u0001_\u0001W\u0001W\u0001W\u0001UÖ+÷«ö¿¾[õºß/þ?{?îLßê\u001foWªºíj¥èå¸DºÌ2,C¡¾8î¸[vM\u0006å\u0014¨v©ºPòâ9°:Ó¸\u001a3%Ôjú]àc6N\u000báÏ\u0010ÛÐ÷\u0018\u0010E\u0016½rBNÅ[þgN',ñG>\u000b\txZõ\tÿ\u0016­BUì´\n",
      "¿Öé^¿¿ZcfKy7£Óö¦]2ÄÝ-}ÊIÿîÁÁpoÇÌ>xx¼úRñÿ2î\u0010/ùâÆ\u0012NyéØªD\u0017}'gÖé[·/='G\u0001wÄLMW¡ug(&}Á0\u000b\\[\u001fØ¼Ì\fìVñ¬OÎ\u001b´\u000eÂF£s7#ýþø;GãÊ\\\u0019C,b½¡üÊÂ\fúSpg%±£Hßßæ\u001exÈ\u0016[Á=¡ØÅó¡êM(EçÄ1\u000e\u0017éËZ´±\u0006½\u0016íÒÆ2U8\u0013ÖÂl«:È8õ>\u001eß\"}°[YkÈ=\n",
      "Ë=ð4SÁ84\\\u0017Zv\u0002Â='õÂ\u00174ýâéIÏ\u001bÚ$ÊÅù=>Ê\u001f¥w\u001foZ,bqCæÎ\u0013\u0003¸ü3õ\tõ5ÚÄó7\u000b\u0004\u0016¹ÞF¦t=\u0011\n",
      "Nã\u0003µó\u001bDgyÖ¬ÀÓæ\u001bFÊ\u0015eYÌ\u0011ó^é~m8iâã\u0018_ØgKý\u000eÏ³\\ÙM6ó9KÎËw-Bªlß3jÏ\u0019óXá\u0010\u0006\u00035\tþÚÜ|oir~©[¸¨{*r\u0011\u0018äzz0ÅÓìYêoZ~ ae'=\u0016Vl\u0002Üm,_¸}-|¢^Ã/InËR|tÅ\n",
      "ªê^pEÈÔù\n",
      "³p¡üàNÃI8ÛmÓÔñ½\u0019\u001bNkÄVÖ_ão(,zc<)\u001fùfdºÞ\u0018>ÃÔA\u001dp@±\u0010Ã^§h\u0017\u0014ùç\u0012ù\u0019\u001aÆ\u0010Û\u001eùÃ]GCI$ôÚÅ\u0010ÐXmH×eÙËu´¼:më;U=ê\u000eÛs\u001dª]äÞ%pþ½ú}6\"Yçaø­®PQl\fJ±\fån\\#¹c/0\u0016eÿÛð\u000e{ßa\u0010¥\u0006S¥¶æî=\u001fqö8\"©{b\u0017Ù\u000be(þÁø\u0001IÍAD±ÞgHù\u0001§}\u0012(Qu\u0001zm/{NPe\u000eu¨NfYf8\"ø\u001f(|Mø\u0019ÚÅBP\n",
      "½x> ÙÏäÆ\u001fF÷¸£[Ó6«Uå\u0010ðÖúçIógTÊhRv«Ëo\u00150\\2\n",
      "5Ð1ý5\u001eÐ?Î=Ù9ÊÞ)\u000e¿R £ôðFCVlP½¾}Ï_/PÑÐ²ÅÏ(IèÀ>?:¡çX±ÿ\u0000\\>rõ6[/X¡([v5!<\u0000Ä\u0010¡:é±>M\u0004T9Ê^|\u0016f;Ï<ø\u001aÜ=Z\u0003\u001aMÏ1\u0010ôì\u001b1 ÙyeC>_[é'{Ê[7b­\u001eÂø¤ÂG8käF\u0016]réb[\u0014º\u0000ì\u0002²oñE\u0015uØ VÔÊml*\\6Ï¶ì\u0016P¢7þ4NÂ\u001fOÈJ&,Ðì\u0003¹üØlrî\u0017Zõò³¤R[R_Ù\u001ae¼Õ90IîaM² [R©îqñ>±¯X+øÞ§'P\u0012B9\u001a^G\n",
      "ÊK,\u001a;Â¸ü7Eç-÷\u001aÒÓYhÁpùé< üÈþ!Ç\u001f\u0013Å6ZÖí\u000f\u0014`\u0019lÅZÌ\u001fÈØ³+d8\u0001òÎ6\u0003éi7\u0002ª{ñP\u001d.A´\tÊOï'4\f\u0011®¸\n",
      "jÏ\u0019\u0005S\u0011{\u0003I\u0000ðRÆ\u001eðLaróì\fÃÛ¦ìPxFq\to\u0012IË¡éAyðÌ0\u001b[«yR¸û\u0010ìòÖ³qµ\u0017ÂÑAÄ+P&E,ü5^ÍXu^Âkfîy\t·ÆîðôôOgÇ,ÃÒò®\u0017zÀ\u000fM¬eZIý°Éc$fãÌ0+téóZ¾\u0002©\u0010íöýÂ<\u0016\u001fQ\u0004àØá@\u001dq#È;ù7PHÐ¯÷\u0007\u001a»]gF=\u0017øç·ÐÐ|wïL»¥[p½+ZZ\n",
      "ÛQ²\táßrÂÀlDñ\u0005¢ð?*X©>©­3çJg$·Åù\u0007ÑwÝd£fÃÕ\u001c ò]r~o¤hi£9Q¥¾´ËMÊ0v&Lü¸³¯Q\\yÝäz±÷Ãã`Ëß|\u0013z\u0019äMýälB\u0014ò\u0004wö-ÀMëÍÀ üRÇ\u0004öa\u0006$VÒç\u0002t¦\u000bhË\u0018Õ,{ø®Áz\u001c+Rìbp5-{%ø\u0014öÍVQB²;v¥²óãåÂJ#X×¾;pkÒOßèÂQÛ%IíèÙËoZÿ#`X9*P2n©ÇvýR13VÏ`C+Ç.ÙP0\u0010+ùr{FÜq\u0014©\u001eH¥¡¸ÃBÏN·\u0001Ôõ³³SÞÒ]Ó\u0017î÷Çû\\ÆÑLØÞJ^{\fóm08\u0013qÜí³RPr0[Ø\u0003Ë¯fi0äjF\u000fÎTz~`XXK£R¥¥ñêÊæy4Aþ\"¨QrvÄ\u001eì\u0015öÞÈÊÚLQ±Øç^û8§ü\u0015:UÐ:*ñ¡yYu.WÌ¯QlÙ°¾Vò<=:vý\u001bÔËÌÙ[´ð~<ý|éËÈN·)Iß» RK\u0006g\u000b{\u001bÊÆkå8iîîx\t|Ó4 ·\u0002ê\u001c\"ð×\u0014\\\u0010\u0017\u0015ÃØÄ&.V&ÏÐ6nà\u0019+^O\u001a[\u000fM0êÀ\u0012rNäcã\u0014gÜö¤N<Î\u001adÁÞPRÝîÃa MäìQOWëÛq±ÿ\u001b¯3ôÝO±2\u0013ËÜ@·I&í\u001bð4KÈ\u00036öPÂÉ8xÈÚÓÍ\u000b9ôòx\fÒ\n",
      "ìx\u0017ë\u0013R\u000bÒmpn]\u0018Ñ#CÚD\u001bc#Èu7Ï¢8òyô~NÄ!\u001e¡Éx(°±ÖFê\n",
      "âôñ§ÜaYPJô¥áÂ><E\n"
     ]
    }
   ],
   "source": [
    "\n",
    "r = receiver()\n",
    "\n",
    "r.set_bits_and_file_name(30712,'asdf')\n",
    "\n",
    "r.entire_data = to_decode\n",
    "\n",
    "binary_data = r.data_block_processing()\n",
    "\n",
    "plt.scatter(r.constellations[0:500].real, r.constellations[0:500].imag)\n",
    "plt.title(\"Constellation Diagram for Data\")\n",
    "plt.show()\n",
    "print(r.chirp_start)\n",
    "\n",
    "print(success(binary_data, transmitted_bits))\n",
    "print(r.decode_text(binary_data))"
   ]
  }
 ],
 "metadata": {
  "kernelspec": {
   "display_name": ".venv",
   "language": "python",
   "name": "python3"
  },
  "language_info": {
   "codemirror_mode": {
    "name": "ipython",
    "version": 3
   },
   "file_extension": ".py",
   "mimetype": "text/x-python",
   "name": "python",
   "nbconvert_exporter": "python",
   "pygments_lexer": "ipython3",
   "version": "3.12.3"
  }
 },
 "nbformat": 4,
 "nbformat_minor": 2
}
