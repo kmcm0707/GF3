{
 "cells": [
  {
   "cell_type": "code",
   "execution_count": 1,
   "metadata": {},
   "outputs": [],
   "source": [
    "import matplotlib.pyplot as plt\n",
    "import numpy as np\n",
    "import random\n",
    "\n",
    "from transmitter import transmitter\n",
    "from receiver import receiver"
   ]
  },
  {
   "cell_type": "code",
   "execution_count": 2,
   "metadata": {},
   "outputs": [],
   "source": [
    "def success(a, b):\n",
    "    \"\"\"find the percentage difference between two lists\"\"\"\n",
    "    successes = 0\n",
    "\n",
    "    for index, i in enumerate(a):\n",
    "        if i == b[index]:\n",
    "            successes += 1 / len(a)\n",
    "\n",
    "    return successes"
   ]
  },
  {
   "cell_type": "markdown",
   "metadata": {},
   "source": [
    "### Transmitter"
   ]
  },
  {
   "cell_type": "code",
   "execution_count": 3,
   "metadata": {},
   "outputs": [
    {
     "name": "stdout",
     "output_type": "stream",
     "text": [
      "Chirp_p_s Prefix Length: 1024\n",
      "Chirp_p_s Suffix Length: 1024\n",
      "Chirp_p_s Length: 67568\n",
      "LDPC Encoding Length: 30712\n",
      "LDPC Padding Length: 392\n",
      "[0 1 0 ... 0 1 0]\n",
      "OFDM Encoding Length: 62208\n",
      "OFDM Padding Length: 0\n"
     ]
    },
    {
     "name": "stderr",
     "output_type": "stream",
     "text": [
      "/Users/maxiyengar/Documents/GF3/GF3/ldpc_jossy/transmitter.py:106: ComplexWarning: Casting complex values to real discards the imaginary part\n",
      "  to_transmit[index]  = np.concatenate((cyclic_prefix, x), axis = None)\n"
     ]
    },
    {
     "data": {
      "image/png": "[encoded data removed]",
      "text/plain": [
       "<Figure size 640x480 with 1 Axes>"
      ]
     },
     "metadata": {},
     "output_type": "display_data"
    },
    {
     "name": "stdout",
     "output_type": "stream",
     "text": [
      "[0 1 0 0 0 0 0 1 0 1 1 0 0 0 1 1 0 1 1 0 0 0 1 1 0 1 1 0 1 1 1 1 0 1 1 1 0\n",
      " 0 1 0 0 1 1 0 0 1 0 0 0 1 1 0 1 0 0 1 0 1 1 0 1 1 1 0 0 1 1 0 0 1 1 1 0 0\n",
      " 1 0 0 0 0 0 0 1 1 1 0 1 0 0 0 1 1 0 1 1 1 1 0 0 1 0]\n"
     ]
    }
   ],
   "source": [
    "t = transmitter()\n",
    "\n",
    "# to_transmit = t.transmit(\"max_test_in.txt\")\n",
    "# # N.B. I think my gray coding method is v. slow(?)\n",
    "\n",
    "binary_data = t.process_file(\"max_test_in.txt\")\n",
    "ldpc_encoded = t.ldpc_encode(binary_data)\n",
    "print(ldpc_encoded)\n",
    "to_transmit = t.ofdm(ldpc_encoded)\n",
    "\n",
    "plt.scatter(t.constellation[0:500].real, t.constellation[0:500].imag)\n",
    "plt.title(\"Constellation Diagram for Data\")\n",
    "plt.show()\n",
    "\n",
    "print(binary_data[0:100])\n"
   ]
  },
  {
   "cell_type": "markdown",
   "metadata": {},
   "source": [
    "### Simulated Channel"
   ]
  },
  {
   "cell_type": "code",
   "execution_count": 4,
   "metadata": {},
   "outputs": [],
   "source": [
    "channel_response = np.loadtxt('../weekend_files/channel.csv', delimiter = \",\", dtype = \"float\")\n",
    "\n",
    "to_decode = np.convolve(channel_response, to_transmit)\n",
    "\n",
    "to_decode = to_decode[:-1 * len(channel_response) + 1]\n",
    "\n",
    "# NOISE\n",
    "\n",
    "# for index, i in enumerate(to_decode):\n",
    "#     to_decode[index] = i + random.gauss(0.0, 0.01)"
   ]
  },
  {
   "cell_type": "markdown",
   "metadata": {},
   "source": [
    "### Decoder"
   ]
  },
  {
   "cell_type": "code",
   "execution_count": 5,
   "metadata": {},
   "outputs": [
    {
     "name": "stdout",
     "output_type": "stream",
     "text": [
      "Chirp_p_s Prefix Length: 1024\n",
      "Chirp_p_s Suffix Length: 1024\n",
      "Chirp_p_s Length: 67568\n",
      "first guess sigma2: 3.7592592592592586\n",
      "[-1.+1.j -1.-1.j -1.+1.j -1.-1.j -1.+1.j  1.-1.j  1.-1.j  1.+1.j -1.+1.j\n",
      "  1.-1.j]\n",
      "---\n",
      "[-1.+1.j  1.+1.j  1.+1.j -1.+1.j -1.+1.j  1.-1.j  1.+1.j -1.-1.j -1.+1.j\n",
      "  1.-1.j]\n",
      "second guess sigma2 1.8796296296296293\n"
     ]
    }
   ],
   "source": [
    "r = receiver()\n",
    "\n",
    "# Set channel estimation by hand:\n",
    "\n",
    "channel_response = np.loadtxt('../weekend_files/channel.csv', delimiter = \",\", dtype = \"float\")\n",
    "r.channel_response_padded = np.pad(channel_response, (0, r.ofdm_symbol_size - len(channel_response)))\n",
    "r.channel_freq = np.fft.fft(r.channel_response_padded)\n",
    "\n",
    "r.ofdm_one_block(to_decode[1024:5120], 1)\n",
    "received_constellation = r.constellations\n",
    "\n",
    "# sigma2 = r.calculate_sigma2(received_constellation, ldpc_encoded[1024+r.ofdm_bin_min:1024+r.ofdm_bin_max + 1])\n",
    "\n",
    "sigma2 = r.calculate_sigma2(t.constellation[0:648], r.constellations[0:648])\n",
    "\n",
    "# print(len(to_decode[5121:9217+1024]))\n",
    "\n",
    "# ldpc_decoded, llrs = r.ofdm(to_decode[5121:9217+1024], sigma2)\n",
    "# decoded = r.ldpc_decoded(ldpc_decoded, llrs)\n",
    "\n",
    "# text = r.decode_text(decoded)\n",
    "\n",
    "\n",
    "\n",
    "# sigmas = [0.05, 0.1, 0.12, 0.135, 0.15, 0.165, 0.18, 0.2, 0.25]\n",
    "# error_rates = []\n",
    "\n",
    "# ldpc_coded, llrs = r.ofdm(to_decode, 0) # Again I think the gray coding is quite slow\n",
    "# decoded = r.ldpc_decode(ldpc_coded, llrs, mode=\"hard\")\n",
    "# text = r.decode_text(decoded)\n",
    "\n",
    "# print(\"Error rate (No LDPC)\", 1 - success(ldpc_coded, ldpc_encoded))\n",
    "# print(\"Error rate (w/ LDPC) - hard:\", 1 - success(decoded, binary_data))\n",
    "\n",
    "# for sigma2 in sigmas:\n",
    "#     ldpc_coded, llrs = r.ofdm(to_decode, sigma2) # Again I think the gray coding is quite slow\n",
    "\n",
    "#     decoded = r.ldpc_decode(ldpc_coded, llrs)\n",
    "#     text = r.decode_text(decoded)\n",
    "\n",
    "#     print(\"Error rate (w/ LDPC) - soft\", 1 - success(decoded, binary_data))\n",
    "#     error_rates.append(1 - success(decoded, binary_data))\n",
    "\n",
    "# noise_estimator = []\n",
    "\n",
    "# for index, i in enumerate(r.constellations[0]):\n",
    "\n",
    "#     if np.real(t.constellation[index]) >= 0 and np.imag(t.constellation[index]) >= 0:\n",
    "#         color='red'\n",
    "#         noise_estimator.append(t.constellation[index] - i)\n",
    "#     elif np.real(t.constellation[index]) <= 0 and np.imag(t.constellation[index]) >= 0:\n",
    "#         color='blue'\n",
    "#     elif np.real(t.constellation[index]) <= 0 and np.imag(t.constellation[index]) <= 0:\n",
    "#         color='green'\n",
    "#     elif np.real(t.constellation[index]) >= 0 and np.imag(t.constellation[index]) <= 0:\n",
    "#         color='yellow'\n",
    "\n",
    "#     plt.scatter(i.real, i.imag, color=color, alpha=0.5)\n",
    "\n",
    "# plt.title(\"Received constellation diagram under simulated channel\")\n",
    "# plt.show()\n",
    "\n",
    "# sigma2 = 0\n",
    "# for i in noise_estimator:\n",
    "#     sigma2 += (i.real**2 + i.imag**2) / len(noise_estimator)\n",
    "\n",
    "# print(sigma2)\n"
   ]
  },
  {
   "cell_type": "code",
   "execution_count": 6,
   "metadata": {},
   "outputs": [
    {
     "ename": "NameError",
     "evalue": "name 'sigmas' is not defined",
     "output_type": "error",
     "traceback": [
      "\u001b[0;31m---------------------------------------------------------------------------\u001b[0m",
      "\u001b[0;31mNameError\u001b[0m                                 Traceback (most recent call last)",
      "Cell \u001b[0;32mIn[6], line 1\u001b[0m\n\u001b[0;32m----> 1\u001b[0m plt\u001b[38;5;241m.\u001b[39mplot(\u001b[43msigmas\u001b[49m, np\u001b[38;5;241m.\u001b[39marray(error_rates))\n\u001b[1;32m      2\u001b[0m plt\u001b[38;5;241m.\u001b[39mxlabel(\u001b[38;5;124m\"\u001b[39m\u001b[38;5;124mSigma ^2 (noise)\u001b[39m\u001b[38;5;124m\"\u001b[39m)\n\u001b[1;32m      3\u001b[0m plt\u001b[38;5;241m.\u001b[39mylabel(\u001b[38;5;124m\"\u001b[39m\u001b[38;5;124mBit Error Rate\u001b[39m\u001b[38;5;124m\"\u001b[39m)\n",
      "\u001b[0;31mNameError\u001b[0m: name 'sigmas' is not defined"
     ]
    }
   ],
   "source": [
    "plt.plot(sigmas, np.array(error_rates))\n",
    "plt.xlabel(\"Sigma ^2 (noise)\")\n",
    "plt.ylabel(\"Bit Error Rate\")\n",
    "plt.title(\"BER post LDPC for initial BER of 0.065\")\n",
    "\n",
    "plt.show()"
   ]
  }
 ],
 "metadata": {
  "kernelspec": {
   "display_name": ".venv",
   "language": "python",
   "name": "python3"
  },
  "language_info": {
   "codemirror_mode": {
    "name": "ipython",
    "version": 3
   },
   "file_extension": ".py",
   "mimetype": "text/x-python",
   "name": "python",
   "nbconvert_exporter": "python",
   "pygments_lexer": "ipython3",
   "version": "3.12.3"
  }
 },
 "nbformat": 4,
 "nbformat_minor": 2
}
