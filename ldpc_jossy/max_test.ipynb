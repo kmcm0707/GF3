{
 "cells": [
  {
   "cell_type": "markdown",
   "metadata": {},
   "source": [
    "## Transmitter Code"
   ]
  },
  {
   "cell_type": "code",
   "execution_count": 150,
   "metadata": {},
   "outputs": [],
   "source": [
    "# Import all needed modules\n",
    "\n",
    "import numpy as np\n",
    "import scipy\n",
    "\n",
    "from matplotlib import pyplot as plt\n",
    "import random\n",
    "\n",
    "from py import ldpc # LDPC from Jossy"
   ]
  },
  {
   "cell_type": "code",
   "execution_count": 151,
   "metadata": {},
   "outputs": [],
   "source": [
    "# Define OFDM parameters:\n",
    "\n",
    "symbol_length = 4096\n",
    "cyclic_length = 512"
   ]
  },
  {
   "cell_type": "code",
   "execution_count": 152,
   "metadata": {},
   "outputs": [
    {
     "name": "stdout",
     "output_type": "stream",
     "text": [
      "LDPC PARAMETERS\n",
      "===============\n",
      "Info length:  504\n",
      "Codeword length:  1008\n",
      "3192 number of messages\n",
      "[3 3 3 ... 2 2 2] variable node degrees\n",
      "[6 6 6 6 6 6 6 6 6 6 6 6 6 6 6 6 6 6 6 6 6 6 6 6 6 6 6 6 6 6 6 6 6 6 6 6 6\n",
      " 6 6 6 6 6 7 7 7 7 7 7 7 7 7 7 7 7 7 7 7 7 7 7 7 7 7 7 7 7 7 7 7 7 7 7 7 7\n",
      " 7 7 7 7 7 7 7 7 7 7 7 7 7 7 7 7 7 7 7 7 7 7 7 7 7 7 7 7 7 7 7 7 7 7 7 7 7\n",
      " 7 7 7 7 7 7 7 7 7 7 7 7 7 7 7 6 6 6 6 6 6 6 6 6 6 6 6 6 6 6 6 6 6 6 6 6 6\n",
      " 6 6 6 6 6 6 6 6 6 6 6 6 6 6 6 6 6 6 6 6 6 6 6 6 6 6 6 6 6 6 6 6 6 6 6 6 6\n",
      " 6 6 6 6 6 6 6 6 6 6 6 6 6 6 6 6 6 6 6 6 6 6 6 6 6 7 7 7 7 7 7 7 7 7 7 7 7\n",
      " 7 7 7 7 7 7 7 7 7 7 7 7 7 7 7 7 7 7 7 7 7 7 7 7 7 7 7 7 7 7 6 6 6 6 6 6 6\n",
      " 6 6 6 6 6 6 6 6 6 6 6 6 6 6 6 6 6 6 6 6 6 6 6 6 6 6 6 6 6 6 6 6 6 6 6 6 6\n",
      " 6 6 6 6 6 6 6 6 6 6 6 6 6 6 6 6 6 6 6 6 6 6 6 6 6 6 6 6 6 6 6 6 6 6 6 6 6\n",
      " 6 6 6 7 7 7 7 7 7 7 7 7 7 7 7 7 7 7 7 7 7 7 7 7 7 7 7 7 7 7 7 7 7 7 7 7 7\n",
      " 7 7 7 7 7 7 7 7 6 6 6 6 6 6 6 6 6 6 6 6 6 6 6 6 6 6 6 6 6 6 6 6 6 6 6 6 6\n",
      " 6 6 6 6 6 6 6 6 6 6 6 6 6 6 6 6 6 6 6 6 6 6 6 6 6 6 6 6 6 6 6 6 6 6 6 6 6\n",
      " 6 6 6 6 6 6 6 6 6 6 6 6 6 6 6 6 6 6 6 6 6 6 6 6 6 6 6 6 6 6 6 6 6 6 6 6 6\n",
      " 6 6 6 6 6 6 6 6 6 6 6 6 6 6 6 6 6 6 6 6 6 6 6] constraint node degrees\n",
      "[ 978 2352 3186 ... 3185 2939 3191] code interleaver\n",
      "802.16 IEEE standard\n",
      "1/2 (code rate string)\n",
      "42 z parameter of IEEE standard\n",
      "A code type for 802.16 rate 2/3 and 3/4\n",
      "[[-1 94 73 -1 -1 -1 -1 -1 55 83 -1 -1  7  0 -1 -1 -1 -1 -1 -1 -1 -1 -1 -1]\n",
      " [-1 27 -1 -1 -1 22 79  9 -1 -1 -1 12 -1  0  0 -1 -1 -1 -1 -1 -1 -1 -1 -1]\n",
      " [-1 -1 -1 24 22 81 -1 33 -1 -1 -1  0 -1 -1  0  0 -1 -1 -1 -1 -1 -1 -1 -1]\n",
      " [61 -1 47 -1 -1 -1 -1 -1 65 25 -1 -1 -1 -1 -1  0  0 -1 -1 -1 -1 -1 -1 -1]\n",
      " [-1 -1 39 -1 -1 -1 84 -1 -1 41 72 -1 -1 -1 -1 -1  0  0 -1 -1 -1 -1 -1 -1]\n",
      " [-1 -1 -1 -1 46 40 -1 82 -1 -1 -1 79  0 -1 -1 -1 -1  0  0 -1 -1 -1 -1 -1]\n",
      " [-1 -1 95 53 -1 -1 -1 -1 -1 14 18 -1 -1 -1 -1 -1 -1 -1  0  0 -1 -1 -1 -1]\n",
      " [-1 11 73 -1 -1 -1  2 -1 -1 47 -1 -1 -1 -1 -1 -1 -1 -1 -1  0  0 -1 -1 -1]\n",
      " [12 -1 -1 -1 83 24 -1 43 -1 -1 -1 51 -1 -1 -1 -1 -1 -1 -1 -1  0  0 -1 -1]\n",
      " [-1 -1 -1 -1 -1 94 -1 59 -1 -1 70 72 -1 -1 -1 -1 -1 -1 -1 -1 -1  0  0 -1]\n",
      " [-1 -1  7 65 -1 -1 -1 -1 39 49 -1 -1 -1 -1 -1 -1 -1 -1 -1 -1 -1 -1  0  0]\n",
      " [43 -1 -1 -1 -1 66 -1 41 -1 -1 -1 26  7 -1 -1 -1 -1 -1 -1 -1 -1 -1 -1  0]] proto (protograph\n"
     ]
    }
   ],
   "source": [
    "# Find LDPC Information\n",
    "\n",
    "c = ldpc.code(standard = '802.16', rate = '1/2', z=42, ptype='A')\n",
    "\n",
    "print(\"LDPC PARAMETERS\\n===============\")\n",
    "\n",
    "print(\"Info length: \", c.K)\n",
    "print(\"Codeword length: \", c.N)\n",
    "\n",
    "print(c.Nmsg,  \"number of messages\")\n",
    "print(c.vdeg,  \"variable node degrees\")\n",
    "print(c.cdeg,  \"constraint node degrees\")\n",
    "print(c.intrlv,  \"code interleaver\")\n",
    "print(c.standard,  \"IEEE standard\")\n",
    "print(c.rate, \"(code rate string)\")\n",
    "print(c.z,  \"z parameter of IEEE standard\")\n",
    "print(c.ptype,  \"code type for 802.16 rate 2/3 and 3/4\")\n",
    "print(c.proto,  \"proto (protograph\")"
   ]
  },
  {
   "cell_type": "code",
   "execution_count": 153,
   "metadata": {},
   "outputs": [
    {
     "name": "stdout",
     "output_type": "stream",
     "text": [
      "384888\n",
      "01000001011000110110001101101111011100100110010001101001011011100110011100100000011101000110111100100000011000010110110001101100\n"
     ]
    }
   ],
   "source": [
    "# OPEN FILE TO TRANSMIT\n",
    "\n",
    "with open('max_test_in.txt', 'r') as file:\n",
    "    data = file.read().replace('\\n', '')\n",
    "\n",
    "binary_data = ''.join(format(ord(x), 'b').zfill(8) for x in data)\n",
    "\n",
    "print(len(binary_data))\n",
    "print(binary_data[0:128])"
   ]
  },
  {
   "cell_type": "code",
   "execution_count": 154,
   "metadata": {},
   "outputs": [
    {
     "name": "stdout",
     "output_type": "stream",
     "text": [
      "773766\n",
      "(386883,)\n"
     ]
    },
    {
     "data": {
      "image/png": "[encoded data removed]",
      "text/plain": [
       "<Figure size 640x480 with 1 Axes>"
      ]
     },
     "metadata": {},
     "output_type": "display_data"
    }
   ],
   "source": [
    "# LDPC ENCODING\n",
    "\n",
    "binary_data += \"0\" * (c.K - (len(binary_data) % c.K))\n",
    "\n",
    "to_ldpc = [binary_data[i:i+c.K] for i in range(0, len(binary_data), c.K)]\n",
    "\n",
    "coded_binary_data = ''\n",
    "\n",
    "for i in to_ldpc:\n",
    "    assert len(i) == c.K\n",
    "\n",
    "    ldpc_out = c.encode([int(i[k]) for k in range(0, len(i))]) # Needs to convert i to a list of binary numbers\n",
    "\n",
    "    ldpc_out = ldpc_out.astype('str')\n",
    "\n",
    "    coded_binary_data += ''.join(ldpc_out)\n",
    "\n",
    "# coded_binary_data = binary_data # Disable ('undo') LDPC Coding\n",
    "\n",
    "# PAD WITH 0s to match OFDM symbols\n",
    "\n",
    "split_length = symbol_length - 2 # (symbol_length - 2) as need 511 constellation 'stars' per symbol, and each 'star' represents 2 bits.\n",
    "\n",
    "# for i in range(split_length - (len(binary_data) % split_length)): \n",
    "#     binary_data += \"0\"\n",
    "\n",
    "ofdm_padding_length = split_length - (len(coded_binary_data) % split_length)\n",
    "\n",
    "coded_binary_data += \"0\" * ofdm_padding_length\n",
    "\n",
    "assert len(coded_binary_data) % split_length == 0.0\n",
    "\n",
    "print(len(coded_binary_data))\n",
    "\n",
    "# ENCODE WITH GRAY CODE\n",
    "\n",
    "to_encode = [coded_binary_data[i:i+2] for i in range(0, len(coded_binary_data), 2)] # Split into list of two characters elements\n",
    "\n",
    "gray_code = 1j * np.arange(len(to_encode)) # 'empty' array\n",
    "\n",
    "for index, i in enumerate(to_encode):\n",
    "    if i == \"00\":\n",
    "        gray_code[index] = 1 + 1j\n",
    "    elif i == \"01\":\n",
    "        gray_code[index] = -1 + 1j\n",
    "    elif i == \"11\":\n",
    "        gray_code[index] = -1 - 1j\n",
    "    elif i == \"10\":\n",
    "        gray_code[index] = 1 - 1j\n",
    "    else:\n",
    "        print(i)\n",
    "        raise Exception(\"Gray code mapping error\")\n",
    "\n",
    "plt.scatter(gray_code[0:500].real, gray_code[0:500].imag)\n",
    "print(gray_code.shape)\n",
    "plt.title(\"Constellation Diagram for Data\")\n",
    "plt.show()\n",
    "\n",
    "# gray_code is one list of all the gray code points"
   ]
  },
  {
   "cell_type": "code",
   "execution_count": 155,
   "metadata": {},
   "outputs": [
    {
     "name": "stdout",
     "output_type": "stream",
     "text": [
      "(189, 4608)\n",
      "(870912,)\n"
     ]
    },
    {
     "name": "stderr",
     "output_type": "stream",
     "text": [
      "/var/folders/10/m2d64f1s1kx01s59h9vnf84w0000gn/T/ipykernel_13801/1326024085.py:26: ComplexWarning: Casting complex values to real discards the imaginary part\n",
      "  to_transmit[index] = new_x\n"
     ]
    }
   ],
   "source": [
    "symbols = np.split(np.array(gray_code), len(gray_code) / (split_length / 2))\n",
    "\n",
    "# ENFORCE CONJUGATE SYMMETRY:\n",
    "\n",
    "for index, x in enumerate(symbols):\n",
    "    conj = np.conjugate(x)[::-1]\n",
    "    symbols[index] = np.concatenate((x, conj), axis=None) # Add reflected conjugate symmetry\n",
    "\n",
    "    symbols[index] = np.insert(symbols[index], 0, 0)\n",
    "    symbols[index] = np.insert(symbols[index], int(symbol_length / 2), 0)\n",
    "\n",
    "# Inverse DFT\n",
    "\n",
    "info = np.fft.ifft(symbols)\n",
    "\n",
    "for i in info[15]:\n",
    "    assert i.imag == 0 # Check is now real\n",
    "\n",
    "# ADD CYCLIC PREFIXES\n",
    "\n",
    "to_transmit = np.zeros(shape = (len(info), symbol_length + cyclic_length))\n",
    "\n",
    "for index, x in enumerate(info):\n",
    "    cyclic_prefix = x[-cyclic_length:]\n",
    "    new_x = np.concatenate((cyclic_prefix, x), axis = None)\n",
    "    to_transmit[index] = new_x\n",
    "\n",
    "print(to_transmit.shape) # Should be (319 - or alternate length, 1056)\n",
    "\n",
    "to_transmit = np.concatenate(to_transmit, axis = 0)\n",
    "\n",
    "print(to_transmit.shape)"
   ]
  },
  {
   "cell_type": "markdown",
   "metadata": {},
   "source": [
    "## Channel Simulation"
   ]
  },
  {
   "cell_type": "code",
   "execution_count": 156,
   "metadata": {},
   "outputs": [],
   "source": [
    "# CHANNEL FILTER\n",
    "\n",
    "channel_response = np.loadtxt('../weekend_files/channel.csv', delimiter = \",\", dtype = \"float\")\n",
    "\n",
    "to_decode = np.convolve(channel_response, to_transmit)\n",
    "\n",
    "to_decode = to_decode[:-1 * len(channel_response) + 1]\n",
    "\n",
    "# NOISE\n",
    "\n",
    "for index, i in enumerate(to_decode):\n",
    "    to_decode[index] = i + random.gauss(0.0, 0.005)\n",
    "\n",
    "np.savetxt(\"max_test_out.csv\", to_decode, delimiter = \",\")\n"
   ]
  },
  {
   "cell_type": "markdown",
   "metadata": {},
   "source": [
    "## Decoder"
   ]
  },
  {
   "cell_type": "code",
   "execution_count": 157,
   "metadata": {},
   "outputs": [
    {
     "data": {
      "image/png": "[encoded data removed]",
      "text/plain": [
       "<Figure size 640x480 with 1 Axes>"
      ]
     },
     "metadata": {},
     "output_type": "display_data"
    }
   ],
   "source": [
    "decoded_symbols = np.split(to_decode, len(to_decode) / (symbol_length + cyclic_length))\n",
    "\n",
    "# Remove Cyclic Prefix\n",
    "\n",
    "for index, i in enumerate(decoded_symbols):\n",
    "    decoded_symbols[index] = i[cyclic_length:]\n",
    "\n",
    "# DFT each symbol:\n",
    "\n",
    "symbols_freq = np.zeros((len(decoded_symbols), symbol_length)).astype(complex) # 'empty' array\n",
    "\n",
    "for index, i in enumerate(decoded_symbols):\n",
    "    symbols_freq[index] = np.fft.fft(i)\n",
    "\n",
    "assert symbols_freq.shape[1] == symbol_length\n",
    "\n",
    "channel_response = np.pad(channel_response, (0, symbol_length - len(channel_response)))\n",
    "channel_freq = np.fft.fft(channel_response)\n",
    "\n",
    "# Divide by DFT of Channel Response:\n",
    "\n",
    "recieved_freq = symbols_freq / channel_freq\n",
    "\n",
    "constellations = recieved_freq[0][1:2048]\n",
    "\n",
    "for index, i in enumerate(recieved_freq[1:]):\n",
    "    constellations = np.vstack((constellations, i[1:2048]))\n",
    "\n",
    "plt.scatter(constellations[10].real, constellations[10].imag)\n",
    "plt.title(\"Received constellation diagram under simulated channel\")\n",
    "plt.show()\n"
   ]
  },
  {
   "cell_type": "code",
   "execution_count": 158,
   "metadata": {},
   "outputs": [],
   "source": [
    "decoded_binary = []\n",
    "\n",
    "# Do Inverse Gray Code:\n",
    "\n",
    "for symbol in constellations:\n",
    "    for i in symbol:\n",
    "        if np.real(i) >= 0 and np.imag(i) >= 0:\n",
    "            decoded_binary.append(\"00\")\n",
    "        elif np.real(i) <= 0 and np.imag(i) >= 0:\n",
    "            decoded_binary.append(\"01\")\n",
    "        elif np.real(i) <= 0 and np.imag(i) <= 0:\n",
    "            decoded_binary.append(\"11\")\n",
    "        elif np.real(i) >= 0 and np.imag(i) <= 0:\n",
    "            decoded_binary.append(\"10\")\n",
    "        else:\n",
    "            raise Exception(\"Gray Code Decoding Error\")\n",
    "\n",
    "decoded_binary = ''.join(decoded_binary)"
   ]
  },
  {
   "cell_type": "code",
   "execution_count": 159,
   "metadata": {},
   "outputs": [],
   "source": [
    "# Remove OFDM Padding:\n",
    "\n",
    "# TODO find OFDM Padding length automatically\n",
    "\n",
    "# assert decoded_binary[-ofdm_padding_length:] == (\"0\" * ofdm_padding_length) # No idea why this doesn't work...\n",
    "\n",
    "decoded_binary_no_padding = decoded_binary[:-ofdm_padding_length]\n",
    "\n",
    "# LDPC DECODING\n",
    "\n",
    "# Split into c.N lengths\n",
    "\n",
    "to_ldpc_decoder = np.array([decoded_binary_no_padding[i:i+c.N] for i in range(0, len(decoded_binary_no_padding), c.N)])\n",
    "\n",
    "for i in to_ldpc_decoder:\n",
    "    assert len(i) == c.N\n",
    "\n",
    "# Decode each section\n",
    "\n",
    "binary_ldpc_out = ''\n",
    "\n",
    "for i in to_ldpc_decoder[0:]:\n",
    "\n",
    "    convert_to_list = np.array([int(i[k]) for k in range(0, len(i))])\n",
    "    convert_to_list = 0.5 - convert_to_list # ldpc decoder needs values around 0, not around 0.5\n",
    "\n",
    "    ldpc_out, iter = c.decode(convert_to_list) # Needs to convert i to a list of binary numbers\n",
    "\n",
    "    ldpc_out = ldpc_out[0 : c.K] # NO IDEA WHAT ldpc_out CONTAINS AFTER c.K ?? Why is it the same size as the codewords?\n",
    "\n",
    "    binary_ldpc_out += ''.join(['0' if j > 0 else '1' for j in ldpc_out])\n"
   ]
  },
  {
   "cell_type": "code",
   "execution_count": 160,
   "metadata": {},
   "outputs": [
    {
     "name": "stdout",
     "output_type": "stream",
     "text": [
      "385056\n",
      "385056\n",
      "0.9817299301919721\n"
     ]
    }
   ],
   "source": [
    "# CONVERT BINARY TO ASCII\n",
    "\n",
    "# binary_ldpc_out = decoded_binary # Disable LDPC\n",
    "\n",
    "success = 0\n",
    "fail = 0\n",
    "\n",
    "print(len(binary_ldpc_out))\n",
    "print(len(binary_data))\n",
    "\n",
    "for index, i in enumerate(binary_ldpc_out[:385056]):\n",
    "    if i == binary_data[index]:\n",
    "        success += 1\n",
    "    else:\n",
    "        fail += 1\n",
    "\n",
    "print(success / (success + fail))\n",
    "\n",
    "# Split into 7 bit sections:\n",
    "\n",
    "decoded_text = ''\n",
    "\n",
    "ascii = [int(binary_ldpc_out[i:i+8], 2) for i in range(0, len(binary_ldpc_out), 8)]\n",
    "decoded_text_list = [chr(i) for i in ascii]\n",
    "\n",
    "decoded_text = ''.join([chr(i) for i in ascii])\n",
    "\n",
    "\n",
    "f = open(\"max_test_out.txt\", \"w\")\n",
    "f.write(decoded_text)\n",
    "f.close()\n",
    "\n",
    "g = open(\"max_test_in.txt\", \"w\")\n",
    "g.write(data)\n",
    "g.close()"
   ]
  }
 ],
 "metadata": {
  "kernelspec": {
   "display_name": ".venv",
   "language": "python",
   "name": "python3"
  },
  "language_info": {
   "codemirror_mode": {
    "name": "ipython",
    "version": 3
   },
   "file_extension": ".py",
   "mimetype": "text/x-python",
   "name": "python",
   "nbconvert_exporter": "python",
   "pygments_lexer": "ipython3",
   "version": "3.12.3"
  }
 },
 "nbformat": 4,
 "nbformat_minor": 2
}
