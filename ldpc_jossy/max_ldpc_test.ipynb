{
 "cells": [
  {
   "cell_type": "code",
   "execution_count": null,
   "metadata": {},
   "outputs": [],
   "source": [
    "import numpy as np\n",
    "import matplotlib.pyplot as plt\n",
    "\n",
    "from py import ldpc # LDPC from Jossy"
   ]
  },
  {
   "cell_type": "code",
   "execution_count": null,
   "metadata": {},
   "outputs": [],
   "source": [
    "c = ldpc.code(standard = '802.16', rate = '1/2', z=54)\n",
    "\n",
    "print(\"LDPC PARAMETERS\\n===============\")\n",
    "\n",
    "print(\"Info length: \", c.K)\n",
    "print(\"Codeword length: \", c.N)\n"
   ]
  },
  {
   "cell_type": "code",
   "execution_count": null,
   "metadata": {},
   "outputs": [],
   "source": [
    "def success(a, b):\n",
    "    \"\"\"find the percentage difference between two lists\"\"\"\n",
    "    successes = 0\n",
    "\n",
    "    for index, i in enumerate(a):\n",
    "        if i == b[index]:\n",
    "            successes += 1 / len(a)\n",
    "\n",
    "    return successes\n",
    "\n",
    "def flip_bits(a, error_rate: float):\n",
    "    \"\"\"flip error_rate bits in a, when error_rate is between 0 and 1\"\"\"\n",
    "    b = np.zeros(len(a))\n",
    "\n",
    "    for index, i in enumerate(a):\n",
    "        if np.random.random() < error_rate: # Flip error_rate % of the bits\n",
    "            b[index] = (i + 1) % 2\n",
    "        else:\n",
    "            b[index] = i\n",
    "    \n",
    "    return b\n",
    "\n",
    "# CHECK:\n",
    "\n",
    "e = np.random.randint(0, 2, c.K)\n",
    "d = flip_bits(e, 0.05)\n",
    "print(success(e, d)) # Should be about 0.95\n"
   ]
  },
  {
   "cell_type": "code",
   "execution_count": null,
   "metadata": {},
   "outputs": [],
   "source": [
    "success_measurements = {}\n",
    "\n",
    "for error_rate in [0.03, 0.04, 0.05, 0.06, 0.07, 0.08, 0.09, 0.1, 0.11]:\n",
    "\n",
    "    success_measurements[error_rate] = []\n",
    "\n",
    "    for i in range(100):\n",
    "        data = np.random.randint(0, 2, c.K) \n",
    "        to_transmit = c.encode(data) # encode with LDPC\n",
    "\n",
    "        received = flip_bits(to_transmit, error_rate) # simulate channel\n",
    "\n",
    "        received = 5 * (0.5 - received)\n",
    "\n",
    "        decoded, iters = c.decode(received) # decode with LDP\n",
    "\n",
    "        decoded = decoded[:-(c.K)] # still no idea what the rest of decoded does...\n",
    "        decoded = np.array([1 if i < 0 else 0 for i in decoded]) # ldpc returns probabilities I think? so convert back to bits\n",
    "\n",
    "        success_measurements[error_rate].append(success(decoded, data))"
   ]
  },
  {
   "cell_type": "code",
   "execution_count": null,
   "metadata": {},
   "outputs": [],
   "source": [
    "# DATA PROCESSING\n",
    "\n",
    "for i in success_measurements:\n",
    "    print(i, \": Average - \", np.mean(success_measurements[i]), \" Minimum - \", np.min(success_measurements[i]))\n",
    "\n",
    "means = 100 * np.array([np.mean(success_measurements[key]) for key in success_measurements])\n",
    "mins = 100 * np.array([np.min(success_measurements[key]) for key in success_measurements])\n",
    "\n",
    "plt.bar(range(len(success_measurements)), means, align='center', label=\"average across 500 samples\")\n",
    "plt.xticks(range(len(success_measurements)), success_measurements.keys())\n",
    "\n",
    "plt.scatter(np.arange(len(mins)), mins, color='red', label=\"minimum\")\n",
    "\n",
    "plt.ylabel(\"% Bits Successfully Decoded\")\n",
    "plt.xlabel(\"Error Rate\")\n",
    "plt.title(\"Successful decodings across different simulated error rates\")\n",
    "\n",
    "plt.legend(loc=\"lower right\")\n",
    "plt.show()"
   ]
  }
 ],
 "metadata": {
  "kernelspec": {
   "display_name": ".venv",
   "language": "python",
   "name": "python3"
  },
  "language_info": {
   "codemirror_mode": {
    "name": "ipython",
    "version": 3
   },
   "file_extension": ".py",
   "mimetype": "text/x-python",
   "name": "python",
   "nbconvert_exporter": "python",
   "pygments_lexer": "ipython3",
   "version": "3.12.3"
  }
 },
 "nbformat": 4,
 "nbformat_minor": 2
}
