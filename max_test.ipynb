{
 "cells": [
  {
   "cell_type": "markdown",
   "metadata": {},
   "source": [
    "## Transmitter Code"
   ]
  },
  {
   "cell_type": "code",
   "execution_count": 41,
   "metadata": {},
   "outputs": [],
   "source": [
    "# Import all needed modules\n",
    "\n",
    "import numpy as np\n",
    "import scipy\n",
    "\n",
    "from matplotlib import pyplot as plt\n",
    "import random\n",
    "\n",
    "from ldpc_jossy.py import ldpc # LDPC from Jossy"
   ]
  },
  {
   "cell_type": "code",
   "execution_count": 31,
   "metadata": {},
   "outputs": [],
   "source": [
    "# Define OFDM parameters:\n",
    "\n",
    "symbol_length = 1024\n",
    "cyclic_length = 32"
   ]
  },
  {
   "cell_type": "code",
   "execution_count": null,
   "metadata": {},
   "outputs": [],
   "source": [
    "# Start LDPC Object:\n",
    "\n",
    "c = ldpc.code(\"802.11n\", '1/2', 4)"
   ]
  },
  {
   "cell_type": "code",
   "execution_count": 32,
   "metadata": {},
   "outputs": [
    {
     "name": "stdout",
     "output_type": "stream",
     "text": [
      "01000001011000110110001101101111011100100110010001101001011011100110011100100000011101000110111100100000011000010110110001101100\n"
     ]
    },
    {
     "data": {
      "image/png": "[encoded data removed]",
      "text/plain": [
       "<Figure size 640x480 with 1 Axes>"
      ]
     },
     "metadata": {},
     "output_type": "display_data"
    }
   ],
   "source": [
    "# OPEN FILE TO TRANSMIT\n",
    "\n",
    "with open('transmitter/data_file.txt', 'r') as file:\n",
    "    data = file.read().replace('\\n', '')\n",
    "\n",
    "binary_data = ''.join(format(ord(x), 'b').zfill(8) for x in data)\n",
    "\n",
    "print(binary_data[0:128])\n",
    "\n",
    "# LDPC ENCODING\n",
    "\n",
    "### TODO\n",
    "\n",
    "# PAD WITH 0s\n",
    "\n",
    "split_length = symbol_length - 2 # (symbol_length - 2) as need 511 constellation 'stars' per symbol, and each 'star' represents 2 bits.\n",
    "\n",
    "for i in range(split_length - (len(binary_data) % split_length)): \n",
    "    binary_data += \"0\"\n",
    "\n",
    "assert len(binary_data) % split_length == 0.0\n",
    "\n",
    "# ENCODE WITH GRAY CODE\n",
    "\n",
    "to_encode = [binary_data[i:i+2] for i in range(0, len(binary_data), 2)] # Split into list of two characters elements\n",
    "\n",
    "gray_code = 1j * np.arange(len(to_encode)) # 'empty' array\n",
    "\n",
    "for index, i in enumerate(to_encode):\n",
    "    if i == \"00\":\n",
    "        gray_code[index] = 1 + 1j\n",
    "    elif i == \"01\":\n",
    "        gray_code[index] = -1 + 1j\n",
    "    elif i == \"11\":\n",
    "        gray_code[index] = -1 - 1j\n",
    "    elif i == \"10\":\n",
    "        gray_code[index] = 1 - 1j\n",
    "    else:\n",
    "        raise Exception(\"Gray code mapping error\")\n",
    "\n",
    "plt.scatter(gray_code[0:500].real, gray_code[0:500].imag)\n",
    "plt.title(\"Constellation Diagram for Data\")\n",
    "plt.show()\n",
    "\n",
    "# gray_code is one list of all the gray code points"
   ]
  },
  {
   "cell_type": "code",
   "execution_count": 33,
   "metadata": {},
   "outputs": [
    {
     "name": "stdout",
     "output_type": "stream",
     "text": [
      "(377, 1056)\n",
      "(398112,)\n"
     ]
    },
    {
     "name": "stderr",
     "output_type": "stream",
     "text": [
      "/var/folders/10/m2d64f1s1kx01s59h9vnf84w0000gn/T/ipykernel_37127/757841710.py:26: ComplexWarning: Casting complex values to real discards the imaginary part\n",
      "  to_transmit[index] = new_x\n"
     ]
    }
   ],
   "source": [
    "symbols = np.split(np.array(gray_code), len(gray_code) / (split_length / 2))\n",
    "\n",
    "# ENFORCE CONJUGATE SYMMETRY:\n",
    "\n",
    "for index, x in enumerate(symbols):\n",
    "    conj = np.conjugate(x)[::-1]\n",
    "    symbols[index] = np.concatenate((x, conj), axis=None) # Add reflected conjugate symmetry\n",
    "\n",
    "    symbols[index] = np.insert(symbols[index], 0, 0)\n",
    "    symbols[index] = np.insert(symbols[index], int(symbol_length / 2), 0)\n",
    "\n",
    "# Inverse DFT\n",
    "\n",
    "info = np.fft.ifft(symbols)\n",
    "\n",
    "for i in info[15]:\n",
    "    assert i.imag == 0 # Check is now real\n",
    "\n",
    "# ADD CYCLIC PREFIXES\n",
    "\n",
    "to_transmit = np.zeros(shape = (len(info), symbol_length + cyclic_length))\n",
    "\n",
    "for index, x in enumerate(info):\n",
    "    cyclic_prefix = x[-32:]\n",
    "    new_x = np.concatenate((cyclic_prefix, x), axis = None)\n",
    "    to_transmit[index] = new_x\n",
    "\n",
    "print(to_transmit.shape) # Should be (319 - or alternate length, 1056)\n",
    "\n",
    "to_transmit = np.concatenate(to_transmit, axis = 0)\n",
    "\n",
    "print(to_transmit.shape)"
   ]
  },
  {
   "cell_type": "markdown",
   "metadata": {},
   "source": [
    "## Audio Transmitter"
   ]
  },
  {
   "cell_type": "code",
   "execution_count": null,
   "metadata": {},
   "outputs": [],
   "source": []
  },
  {
   "cell_type": "markdown",
   "metadata": {},
   "source": [
    "## Channel Simulation"
   ]
  },
  {
   "cell_type": "code",
   "execution_count": 49,
   "metadata": {},
   "outputs": [],
   "source": [
    "# CHANNEL FILTER\n",
    "\n",
    "channel_response = np.loadtxt('weekend_files/channel.csv', delimiter = \",\", dtype = \"float\")\n",
    "\n",
    "to_decode = np.convolve(channel_response, to_transmit)\n",
    "\n",
    "to_decode = to_decode[:-1 * len(channel_response) + 1]\n",
    "\n",
    "# NOISE\n",
    "\n",
    "for index, i in enumerate(to_decode):\n",
    "    to_decode[index] = i + random.gauss(0.0, 0.005)\n",
    "\n",
    "np.savetxt(\"max_test_out.csv\", to_decode, delimiter = \",\")\n"
   ]
  },
  {
   "cell_type": "markdown",
   "metadata": {},
   "source": [
    "## Decoder"
   ]
  },
  {
   "cell_type": "code",
   "execution_count": 50,
   "metadata": {},
   "outputs": [
    {
     "data": {
      "image/png": "[encoded data removed]",
      "text/plain": [
       "<Figure size 640x480 with 1 Axes>"
      ]
     },
     "metadata": {},
     "output_type": "display_data"
    }
   ],
   "source": [
    "decoded_symbols = np.split(to_decode, len(to_decode) / (symbol_length + cyclic_length))\n",
    "\n",
    "# Remove Cyclic Prefix\n",
    "\n",
    "for index, i in enumerate(decoded_symbols):\n",
    "    decoded_symbols[index] = i[cyclic_length:]\n",
    "\n",
    "# DFT each symbol:\n",
    "\n",
    "symbols_freq = np.zeros((len(decoded_symbols), symbol_length)).astype(complex) # 'empty' array\n",
    "\n",
    "for index, i in enumerate(decoded_symbols):\n",
    "    symbols_freq[index] = np.fft.fft(i)\n",
    "\n",
    "assert symbols_freq.shape[1] == symbol_length\n",
    "\n",
    "channel_response = np.pad(channel_response, (0, symbol_length - len(channel_response)))\n",
    "channel_freq = np.fft.fft(channel_response)\n",
    "\n",
    "# Divide by DFT of Channel Response:\n",
    "\n",
    "recieved_freq = symbols_freq / channel_freq\n",
    "\n",
    "constellations = np.zeros((1, 511))\n",
    "\n",
    "for index, i in enumerate(recieved_freq):\n",
    "    constellations = np.vstack((constellations, i[1:512]))\n",
    "\n",
    "plt.scatter(constellations[-10].real, constellations[-10].imag)\n",
    "plt.title(\"Received constellation diagram under simulated channel\")\n",
    "plt.show()\n"
   ]
  },
  {
   "cell_type": "code",
   "execution_count": 36,
   "metadata": {},
   "outputs": [
    {
     "name": "stdout",
     "output_type": "stream",
     "text": [
      "According to all known laws of aviation, there is no way a bee should be able to fly.Its wings are t\n"
     ]
    }
   ],
   "source": [
    "decoded_binary = []\n",
    "\n",
    "# Do Inverse Gray Code:\n",
    "\n",
    "for symbol in constellations:\n",
    "    for i in symbol:\n",
    "        if np.real(i) >= 0 and np.imag(i) >= 0:\n",
    "            decoded_binary.append(\"00\")\n",
    "        elif np.real(i) <= 0 and np.imag(i) >= 0:\n",
    "            decoded_binary.append(\"01\")\n",
    "        elif np.real(i) <= 0 and np.imag(i) <= 0:\n",
    "            decoded_binary.append(\"11\")\n",
    "        elif np.real(i) >= 0 and np.imag(i) <= 0:\n",
    "            decoded_binary.append(\"10\")\n",
    "        else:\n",
    "            raise Exception(\"Gray Code Decoding Error\")\n",
    "\n",
    "# LDPC DECODING\n",
    "\n",
    "### TODO\n",
    "\n",
    "# CONVERT BINARY TO ASCII\n",
    "\n",
    "# Split into 7 bit sections:\n",
    "\n",
    "decoded_text = ''\n",
    "\n",
    "ascii = [int(binary_data[i:i+8], 2) for i in range(0, len(binary_data), 8)]\n",
    "decoded_text = ''.join(chr(i) for i in ascii)\n",
    "\n",
    "print(decoded_text[0:100])"
   ]
  }
 ],
 "metadata": {
  "kernelspec": {
   "display_name": ".venv",
   "language": "python",
   "name": "python3"
  },
  "language_info": {
   "codemirror_mode": {
    "name": "ipython",
    "version": 3
   },
   "file_extension": ".py",
   "mimetype": "text/x-python",
   "name": "python",
   "nbconvert_exporter": "python",
   "pygments_lexer": "ipython3",
   "version": "3.12.3"
  }
 },
 "nbformat": 4,
 "nbformat_minor": 2
}
