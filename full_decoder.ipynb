{
 "cells": [
  {
   "cell_type": "code",
   "execution_count": 26,
   "metadata": {},
   "outputs": [],
   "source": [
    "import matplotlib.pyplot as plt\n",
    "import numpy as np\n",
    "import pandas as pd\n",
    "import scipy.signal as signal\n",
    "from synchronisation import *\n",
    "import pyaudio\n",
    "import time\n",
    "\n"
   ]
  },
  {
   "cell_type": "code",
   "execution_count": 22,
   "metadata": {},
   "outputs": [],
   "source": [
    "def generate_sound(samples, volume, fs): # volume range [0.0, 1.0]\n",
    "\n",
    "    p = pyaudio.PyAudio()\n",
    "    time.sleep(1)\n",
    "\n",
    "    output_bytes = (volume * samples).tobytes()\n",
    "\n",
    "    # for paFloat32 sample values must be in range [-1.0, 1.0]\n",
    "    stream = p.open(format=pyaudio.paFloat32,\n",
    "                    channels=1,\n",
    "                    rate=fs,\n",
    "                    output=True)\n",
    "\n",
    "    # play. May repeat with different volume values (if done interactively)\n",
    "    start_time = time.time()\n",
    "    stream.write(output_bytes)\n",
    "    print(\"Played sound for {:.2f} seconds\".format(time.time() - start_time))\n",
    "\n",
    "    stream.stop_stream()\n",
    "    stream.close()\n",
    "\n",
    "    p.terminate()"
   ]
  },
  {
   "cell_type": "code",
   "execution_count": 23,
   "metadata": {},
   "outputs": [
    {
     "name": "stdout",
     "output_type": "stream",
     "text": [
      "(1024,)\n",
      "(1024,)\n",
      "(1024,)\n",
      "(1024,)\n",
      "(1056,)\n"
     ]
    }
   ],
   "source": [
    "fs = 44100\n",
    "chirp_time = 1\n",
    "t = np.linspace(0, chirp_time, fs*chirp_time)\n",
    "f_0 = 1000\n",
    "f_1 = 16000\n",
    "chirp = signal.chirp(t, f0=f_0, f1=f_1, t1=chirp_time, method='linear')\n",
    "chirp = chirp / np.max(np.abs(chirp))\n",
    "\n",
    "symbol = []\n",
    "for i in range(511):\n",
    "    if i % 4 == 0:\n",
    "        symbol.append(1+1j)\n",
    "    elif i % 4 == 1:\n",
    "        symbol.append(-1+1j)\n",
    "    elif i % 4 == 2:\n",
    "        symbol.append(1-1j)\n",
    "    elif i % 4 == 3:\n",
    "        symbol.append(-1-1j)\n",
    "\n",
    "\n",
    "symbol = np.array(symbol)\n",
    "conj_symbol = np.conj(symbol)[::-1]\n",
    "symbol = np.concatenate((symbol, conj_symbol))\n",
    "symbol = np.insert(symbol, 0, 0)\n",
    "symbol = np.insert(symbol, 512, 0)\n",
    "print(symbol.shape)\n",
    "time_symbol = np.fft.ifft(symbol)\n",
    "print(time_symbol.shape)\n",
    "time_symbol = np.real(time_symbol)\n",
    "time_symbol = time_symbol / np.max(np.abs(time_symbol))\n",
    "cyclic = np.concatenate((time_symbol[-32:], time_symbol))\n",
    "\n",
    "symbol_data = []\n",
    "for i in range(511):\n",
    "    if i % 4 == 3:\n",
    "        symbol_data.append(1+1j)\n",
    "    elif i % 4 == 2:\n",
    "        symbol_data.append(-1+1j)\n",
    "    elif i % 4 == 1:\n",
    "        symbol_data.append(1-1j)\n",
    "    elif i % 4 == 0:\n",
    "        symbol_data.append(-1-1j)\n",
    "\n",
    "symbol_data = np.array(symbol_data)\n",
    "conj_symbol_data = np.conj(symbol_data)[::-1]\n",
    "symbol_data = np.concatenate((symbol_data, conj_symbol_data))\n",
    "symbol_data = np.insert(symbol_data, 0, 0)\n",
    "symbol_data = np.insert(symbol_data, 512, 0)\n",
    "print(symbol_data.shape)\n",
    "time_symbol_data = np.fft.ifft(symbol_data)\n",
    "print(time_symbol_data.shape)\n",
    "time_symbol_data = np.real(time_symbol_data)\n",
    "time_symbol_data = time_symbol_data / np.max(np.abs(time_symbol_data))\n",
    "cyclic_data = np.concatenate((time_symbol_data[-32:], time_symbol_data))\n",
    "print(cyclic_data.shape)"
   ]
  },
  {
   "cell_type": "code",
   "execution_count": 24,
   "metadata": {},
   "outputs": [
    {
     "name": "stdout",
     "output_type": "stream",
     "text": [
      "(46212,)\n",
      "1.0\n"
     ]
    }
   ],
   "source": [
    "to_transmit = np.concatenate((chirp, cyclic, cyclic_data))\n",
    "to_transmit = to_transmit.astype(np.float32)\n",
    "print(to_transmit.shape)\n",
    "print(np.max(np.abs(to_transmit)))\n"
   ]
  },
  {
   "cell_type": "code",
   "execution_count": 27,
   "metadata": {},
   "outputs": [
    {
     "name": "stdout",
     "output_type": "stream",
     "text": [
      "Played sound for 1.08 seconds\n"
     ]
    }
   ],
   "source": [
    "generate_sound(to_transmit, 1, fs)"
   ]
  },
  {
   "cell_type": "code",
   "execution_count": null,
   "metadata": {},
   "outputs": [],
   "source": [
    "#Signal Import\n",
    "data = pd.read_csv('data.csv').to_numpy()\n",
    "data = np.reshape(data, len(data)) \n",
    "y = data"
   ]
  },
  {
   "cell_type": "code",
   "execution_count": null,
   "metadata": {},
   "outputs": [],
   "source": [
    "#Synchronization\n",
    "chirp_time = 1\n",
    "fs = 44100\n",
    "t = np.linspace(0, chirp_time, fs*chirp_time)\n",
    "f_0 = 1000\n",
    "f_1 = 16000\n",
    "chirp = signal.chirp(t, f0=f_0, f1=f_1, method='linear')\n",
    "max_index, cross_correlation, lags = matched_filter_synchronisation(y,chirp, channel_time, fs)\n",
    "print(max_index)\n",
    "\n",
    "#Plot\n",
    "x = np.linspace(0, len(y), len(y))\n",
    "plt.plot(x[:lags[max_index]],y[:lags[max_index]])\n",
    "plt.plot(x[lags[max_index]:lags[max_index] + len(chirp)],y[lags[max_index]:lags[max_index] + len(chirp)], color = 'red')\n",
    "plt.plot(x[lags[max_index] + len(chirp):], y[lags[max_index] + len(chirp):])\n",
    "plt.show()\n"
   ]
  },
  {
   "cell_type": "code",
   "execution_count": null,
   "metadata": {},
   "outputs": [],
   "source": [
    "# Channel estimation using the chirp\n",
    "chirp_data = y[lags[max_index]:lags[max_index] + len(chirp)]\n",
    "channel_chirp = standered_estimation(chirp, chirp_data, fs)\n",
    "plt.plot(channel_chirp)\n",
    "plt.show()\n",
    "\n",
    "time_channel_chirp = np.fft.ifft(channel_chirp)\n",
    "plt.plot(time_channel_chirp)\n",
    "plt.show()"
   ]
  },
  {
   "cell_type": "code",
   "execution_count": null,
   "metadata": {},
   "outputs": [],
   "source": [
    "# Channel estimation Using OFDM\n",
    "n = 1056\n",
    "OFDM_DATA = pd.read_csv('OFDM_DATA.csv').to_numpy()\n",
    "OFDM_DATA = np.reshape(OFDM_DATA, len(OFDM_DATA))\n",
    "Start_index = lags[max_index] + len(chirp)\n",
    "\n",
    "# Channel estimation\n",
    "Symbol_One = OFDM_DATA[Start_index:Start_index + n]\n",
    "Symbol_One = Symbol_One[32:]\n",
    "chanel_estimation = standered_estimation(OFDM_DATA, Symbol_One, 1024)\n",
    "plt.plot(np.abs(chanel_estimation))\n",
    "plt.show()\n",
    "time_channel = np.fft.ifft(chanel_estimation)\n",
    "plt.plot(np.abs(time_channel))\n",
    "plt.show()\n"
   ]
  },
  {
   "cell_type": "code",
   "execution_count": null,
   "metadata": {},
   "outputs": [],
   "source": []
  }
 ],
 "metadata": {
  "kernelspec": {
   "display_name": ".venv",
   "language": "python",
   "name": "python3"
  },
  "language_info": {
   "codemirror_mode": {
    "name": "ipython",
    "version": 3
   },
   "file_extension": ".py",
   "mimetype": "text/x-python",
   "name": "python",
   "nbconvert_exporter": "python",
   "pygments_lexer": "ipython3",
   "version": "3.9.7"
  }
 },
 "nbformat": 4,
 "nbformat_minor": 2
}
